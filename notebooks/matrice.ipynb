{
 "cells": [
  {
   "cell_type": "code",
   "execution_count": 95,
   "metadata": {
    "collapsed": true
   },
   "outputs": [],
   "source": [
    "import numpy as np\n",
    "import numpy.linalg as linalg  # linalg.det() este determinantul unei matrice\n"
   ]
  },
  {
   "cell_type": "code",
   "execution_count": 110,
   "outputs": [
    {
     "name": "stdout",
     "output_type": "stream",
     "text": [
      "linalg.det(a):\n",
      "-8.000000000000002\n",
      "Reverse of a:\n",
      "[[ 0.5  -0.25  0.25]\n",
      " [-1.    0.25  0.25]\n",
      " [ 0.5   0.25 -0.25]]\n",
      "a @ a_inverse:\n",
      "[[ 1.00000000e+00  0.00000000e+00  0.00000000e+00]\n",
      " [ 3.33066907e-16  1.00000000e+00 -1.11022302e-16]\n",
      " [ 1.11022302e-16  0.00000000e+00  1.00000000e+00]]\n"
     ]
    }
   ],
   "source": [
    "a = np.array([\n",
    "    [1, 0, 1],\n",
    "    [1, 2, 3],\n",
    "    [3, 2, 1]\n",
    "])\n",
    "\n",
    "print('linalg.det(a):')\n",
    "print(linalg.det(a))\n",
    "\n",
    "a_ = linalg.inv(a)\n",
    "print('Reverse of a:')\n",
    "print(a_)\n",
    "\n",
    "print(\"a @ a_inverse:\")\n",
    "print(a @ a_)"
   ],
   "metadata": {
    "collapsed": false,
    "pycharm": {
     "name": "#%%\n"
    }
   }
  },
  {
   "cell_type": "code",
   "execution_count": 97,
   "outputs": [
    {
     "name": "stdout",
     "output_type": "stream",
     "text": [
      "(2, 3)\n",
      "2 linii 3 coloane\n"
     ]
    }
   ],
   "source": [
    "# Cum aflam dimensiunea matricea?\n",
    "b = np.array([\n",
    "    [1,0,1],\n",
    "    [1,0,1],\n",
    "])\n",
    "print(b.shape)\n",
    "print(b.shape[0], 'linii', b.shape[1], 'coloane')"
   ],
   "metadata": {
    "collapsed": false,
    "pycharm": {
     "name": "#%%\n"
    }
   }
  },
  {
   "cell_type": "code",
   "execution_count": 98,
   "outputs": [
    {
     "name": "stdout",
     "output_type": "stream",
     "text": [
      "[[1. 0. 0.]\n",
      " [0. 1. 0.]\n",
      " [0. 0. 1.]]\n",
      "[[0. 0. 0.]\n",
      " [0. 0. 0.]\n",
      " [0. 0. 0.]]\n"
     ]
    }
   ],
   "source": [
    "# Cum generam matricea unitate si matricea vida\n",
    "\n",
    "I3 = np.eye(3)\n",
    "O3 = np.zeros((3, 3))\n",
    "print(I3)\n",
    "print(O3)"
   ],
   "metadata": {
    "collapsed": false,
    "pycharm": {
     "name": "#%%\n"
    }
   }
  },
  {
   "cell_type": "code",
   "execution_count": 99,
   "outputs": [
    {
     "name": "stdout",
     "output_type": "stream",
     "text": [
      "a = \n",
      "[[ 1  2  3]\n",
      " [ 1 -2  3]\n",
      " [ 1  0  0]]\n",
      "a.T = \n",
      "[[ 1  1  1]\n",
      " [ 2 -2  0]\n",
      " [ 3  3  0]]\n",
      "a @ a.T =\n",
      "[[14  6  1]\n",
      " [ 6 14  1]\n",
      " [ 1  1  1]]\n",
      "a @ I3 =\n",
      "[[ 1.  2.  3.]\n",
      " [ 1. -2.  3.]\n",
      " [ 1.  0.  0.]]\n"
     ]
    }
   ],
   "source": [
    "# transpusa și înmulțire matrice:\n",
    "\n",
    "a = np.array([\n",
    "    [1, 2, 3],\n",
    "    [1, -2, 3],\n",
    "    [1, 0, 0],\n",
    "])\n",
    "print('a = ')\n",
    "print(a)  # afisam matricea a\n",
    "print('a.T = ')\n",
    "print(a.T)  # transpusa\n",
    "\n",
    "# produs matricela:\n",
    "b = a @ a.T\n",
    "a_copy = a @ I3\n",
    "print(\"a @ a.T =\")\n",
    "print(b)\n",
    "print(\"a @ I3 =\")\n",
    "print(a_copy)"
   ],
   "metadata": {
    "collapsed": false,
    "pycharm": {
     "name": "#%%\n"
    }
   }
  },
  {
   "cell_type": "code",
   "execution_count": 100,
   "outputs": [
    {
     "name": "stdout",
     "output_type": "stream",
     "text": [
      "v =\n",
      "[  2   3   4   5  -2 100 101]\n",
      "v[0] v[3]\n",
      "2 5\n",
      "[ 5 -2]\n",
      "[  2   5 101]\n"
     ]
    }
   ],
   "source": [
    "# cum cream subvectori:\n",
    "v = np.array([2, 3, 4, 5, -2, 100, 101])\n",
    "\n",
    "print('v =')\n",
    "print(v)\n",
    "# cate un element:\n",
    "print('v[0] v[3]')\n",
    "print(v[0], v[3])\n",
    "# cate un slice (in acest caz mai este numit range:\n",
    "print(v[3:5])  # valorile de pe indicii 3,4 pana inainte de 5, deoarece 5=STOP\n",
    "# cate un slice, dar din k in k elemente\n",
    "print(v[0:7:3])  # indici 1,2,3,4,5,6 dar luați din 7 in 7"
   ],
   "metadata": {
    "collapsed": false,
    "pycharm": {
     "name": "#%%\n"
    }
   }
  },
  {
   "cell_type": "code",
   "execution_count": 101,
   "outputs": [
    {
     "name": "stdout",
     "output_type": "stream",
     "text": [
      "a =\n",
      "[[ 6  2 -5]\n",
      " [ 0 -2  7]\n",
      " [ 6  0  2]]\n",
      "a[1, 2] = a[1][2] =\n",
      "7\n",
      "[ 0 -2  7]\n",
      "[-5  7  2]\n"
     ]
    }
   ],
   "source": [
    "# cum cream submatrice\n",
    "a = np.array([\n",
    "    [6, 2, -5],\n",
    "    [0, -2, 7],\n",
    "    [6, 0, 2],\n",
    "])\n",
    "\n",
    "# matricea a:\n",
    "print('a =')\n",
    "print(a)\n",
    "\n",
    "# Putem folosi indici pentru a lua un element:\n",
    "print('a[1, 2] = a[1][2] =')\n",
    "print(a[1, 2])  # a_{12}\n",
    "\n",
    "# putem folosi slices pentru ambele coordonate:\n",
    "\n",
    "# linia 1\n",
    "print(a[1])\n",
    "# coloana 2:\n",
    "print(a[:, 2])\n",
    "\n"
   ],
   "metadata": {
    "collapsed": false,
    "pycharm": {
     "name": "#%%\n"
    }
   }
  },
  {
   "cell_type": "code",
   "execution_count": 102,
   "outputs": [
    {
     "name": "stdout",
     "output_type": "stream",
     "text": [
      "a =\n",
      "[[ 6  2 -5]\n",
      " [ 0 -2  7]\n",
      " [ 6  0  2]]\n",
      "[[ 0 -2  7]\n",
      " [ 6  0  2]]\n",
      "[[ 6 -5]\n",
      " [ 0  7]\n",
      " [ 6  2]]\n"
     ]
    }
   ],
   "source": [
    "# matricea a:\n",
    "print('a =')\n",
    "print(a)\n",
    "\n",
    "# liniile 1 și 2\n",
    "print(a[1:3, :])\n",
    "# coloanele 0 și 2\n",
    "print(a[:, 0:3:2])"
   ],
   "metadata": {
    "collapsed": false,
    "pycharm": {
     "name": "#%%\n"
    }
   }
  },
  {
   "cell_type": "code",
   "execution_count": 103,
   "outputs": [
    {
     "name": "stdout",
     "output_type": "stream",
     "text": [
      "a =\n",
      "[[ 6  2 -5]\n",
      " [ 0 -2  7]\n",
      " [ 6  0  2]]\n",
      "a[0:2, 1:3] =\n",
      "[[ 2 -5]\n",
      " [-2  7]]\n"
     ]
    }
   ],
   "source": [
    "# matricea a:\n",
    "print('a =')\n",
    "print(a)\n",
    "\n",
    "# liniile 0 si 1, coloanele 1 si 2\n",
    "print(\"a[0:2, 1:3] =\")\n",
    "print(a[0:2, 1:3])"
   ],
   "metadata": {
    "collapsed": false,
    "pycharm": {
     "name": "#%%\n"
    }
   }
  },
  {
   "cell_type": "code",
   "execution_count": 104,
   "outputs": [],
   "source": [
    "# TODO\n",
    "a = np.array([\n",
    "    [-5, 2, 10],\n",
    "    [-2, -3, 4],\n",
    "    [-5, 8, 102],\n",
    "    [0, 3, 10],\n",
    "])\n",
    "\n",
    "# Cerinta:\n",
    "# Extrageți si afișați, pe rand, fiecare dintre următoarele:\n",
    "\n",
    "# 1. Coloana care conține cele mai multe elemente negative\n",
    "\n",
    "\n",
    "# 2. Linia  care conține cele mai multe elemente negative\n",
    "\n",
    "\n",
    "# 3. Extrageți din matricea de mai sus orice matrice de 2x2, care conține doar elemente pare\n",
    "\n",
    "\n",
    "# 4. Extrageți o matrice de 2x2 care conține număr maxim de elemente negative\n",
    "\n",
    "\n",
    "# 5. E\n",
    "\n"
   ],
   "metadata": {
    "collapsed": false,
    "pycharm": {
     "name": "#%%\n"
    }
   }
  },
  {
   "cell_type": "markdown",
   "source": [],
   "metadata": {
    "collapsed": false
   }
  },
  {
   "cell_type": "code",
   "execution_count": 105,
   "outputs": [
    {
     "name": "stdout",
     "output_type": "stream",
     "text": [
      "False\n"
     ]
    }
   ],
   "source": [
    "from numpy.typing import NDArray\n",
    "\n",
    "# 1. distanta dintre doua puncte\n",
    "\n",
    "# 2D\n",
    "a = np.array([2, 3])\n",
    "b = np.array([5, 1])\n",
    "\n",
    "# 3D\n",
    "m = np.array([0,0,0])\n",
    "n = np.array([0,2,3])\n",
    "\n",
    "# creăm funcții\n",
    "def distanta_euclidiana(a: NDArray, b: NDArray) -> float:\n",
    "    pass\n",
    "\n",
    "dist = distanta_euclidiana(a, b)\n",
    "print(dist == np.sqrt(13))"
   ],
   "metadata": {
    "collapsed": false,
    "pycharm": {
     "name": "#%%\n"
    }
   }
  }
 ],
 "metadata": {
  "kernelspec": {
   "display_name": "Python 3",
   "language": "python",
   "name": "python3"
  },
  "language_info": {
   "codemirror_mode": {
    "name": "ipython",
    "version": 2
   },
   "file_extension": ".py",
   "mimetype": "text/x-python",
   "name": "python",
   "nbconvert_exporter": "python",
   "pygments_lexer": "ipython2",
   "version": "2.7.6"
  }
 },
 "nbformat": 4,
 "nbformat_minor": 0
}