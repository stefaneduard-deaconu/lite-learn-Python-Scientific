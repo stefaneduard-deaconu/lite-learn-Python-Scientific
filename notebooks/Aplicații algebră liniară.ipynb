{
 "cells": [
  {
   "cell_type": "code",
   "execution_count": 2,
   "outputs": [],
   "source": [
    "import numpy as np\n",
    "import numpy.linalg as linalg"
   ],
   "metadata": {
    "collapsed": false,
    "pycharm": {
     "name": "#%%\n"
    }
   }
  },
  {
   "cell_type": "markdown",
   "source": [
    "# Aplicații în geometrie computațională\n",
    "\n",
    "1. Distanța dintre două puncte\n",
    "2. Aria unui triunghi\n",
    "3. Matricea de rotație\n",
    "4. Distanța de la un punct până la o dreaptă\n",
    "5. Calcularea ariei unui polinom\n",
    "6. Calcularea razei unui drum"
   ],
   "metadata": {
    "collapsed": false
   }
  },
  {
   "cell_type": "code",
   "execution_count": 41,
   "outputs": [
    {
     "name": "stdout",
     "output_type": "stream",
     "text": [
      "0.5\n",
      "3.999999999999999\n",
      "[[ 6.123234e-17 -1.000000e+00]\n",
      " [ 1.000000e+00  6.123234e-17]]\n",
      "5.0\n"
     ]
    }
   ],
   "source": [
    "from typing import Union, List\n",
    "from numpy.typing import NDArray\n",
    "\n",
    "\n",
    "# 1 Distanța dintre două puncte\n",
    "\n",
    "def distanța_puncte(a: NDArray, b: NDArray):\n",
    "    return np.sqrt(np.norm(a - b))\n",
    "\n",
    "\n",
    "# 2 Aria unui triunghi\n",
    "\n",
    "\"\"\"\n",
    "Folosim determinantul:\n",
    "| x1 y1 1 |\n",
    "| x2 y2 1 |   =   d\n",
    "| x3 y3 1 |\n",
    "Și formula   A_triunghi = np.abs(d/2)\n",
    "\"\"\"\n",
    "\n",
    "\n",
    "def aria_triunghi(a: Union[NDArray, List],\n",
    "                  b: Union[NDArray, List],\n",
    "                  c: Union[NDArray, List]):\n",
    "    a = np.matrix([\n",
    "        [*a, 1],\n",
    "        [*b, 1],\n",
    "        [*c, 1]  # [*[1,2,3]] inseamna  [1, 2, 3],   iar   [*[1,2],1] == [1,2,1]\n",
    "    ])\n",
    "    d = linalg.det(a)\n",
    "    return np.abs(d / 2)\n",
    "\n",
    "\n",
    "print(aria_triunghi(\n",
    "    [0, 0],\n",
    "    [0, 1],\n",
    "    [1, 0]\n",
    "))\n",
    "print(aria_triunghi(\n",
    "    [0, 1],\n",
    "    [4, 3],\n",
    "    [4, 1]\n",
    "))\n",
    "\n",
    "\n",
    "# 3 Matricea de rotație\n",
    "\n",
    "# Folositi o matrice de rotatie pentru a roti in jurul punctului [0,0], la 90 de grade, punctul  a=[2,3]\n",
    "#  * va rezulta punctul [-3,2]\n",
    "\n",
    "def genereaza_rotatie(alpha: float):\n",
    "    radians = np.radians(alpha)\n",
    "    cos = np.cos(radians)\n",
    "    sin = np.sin(radians)\n",
    "    return np.matrix([\n",
    "        [cos, -sin],\n",
    "        [sin, cos]\n",
    "    ])\n",
    "\n",
    "\n",
    "R = genereaza_rotatie(90)\n",
    "print(R)\n",
    "a = np.array([2, 3])\n",
    "a_rotit = R @ a\n",
    "\n",
    "\n",
    "# 4 Distanța de la un punct până la o dreaptă\n",
    "\n",
    "# dreapta poate fi primita ca o ecuatie   a*x + b*y + c == 0   adica cele trei valori a, b, c\n",
    "def distanta(p: NDArray, d: NDArray):\n",
    "    if d.shape == (3,):\n",
    "        # d contine a,b,c\n",
    "        # distanta va fi   a*p[0] + b*p[1] + c\n",
    "        # adica [a,b,c] * [p[0], p[1], 1],   adica d*np.hstack([p, [1]])\n",
    "        numerator = np.dot(d, np.hstack([p, [1]]))\n",
    "        denominator = linalg.norm(d[:2])  # adica linalg.norm([a,b])\n",
    "        return numerator / denominator\n",
    "    elif d.shape == (2,):  # slope and ..\n",
    "        # y=mx*n   => a=m, b=-1, c=n\n",
    "        m,n = d\n",
    "        coef = np.array([m, -1, n])\n",
    "        numerator = np.dot(coef, np.hstack([p, [1]]))\n",
    "        denominator = linalg.norm([m, -1])\n",
    "        return numerator / denominator\n",
    "    elif d.shape == (2, 2):  # slope and ..\n",
    "        # y=mx*n   => a=m, b=-1, c=n\n",
    "        dx, dy = d[0] - d[1]\n",
    "        m = dy / dx\n",
    "        n = d[0][1] - m * d[0][0]\n",
    "        coef = np.array([m, -1, n])\n",
    "        numerator = np.dot(coef, np.hstack([p, [1]]))\n",
    "        denominator = linalg.norm([m, -1])\n",
    "        return numerator / denominator\n",
    "\n",
    "# print(distanta(\n",
    "#     [0, 0],\n",
    "#     np.array([2, 3, 4])  # 2x + 3y + 4 == 0\n",
    "# ))\n",
    "# print(distanta(\n",
    "#     [0, 0],\n",
    "#     np.array([2, 3])  # 2x + 3y + 4 == 0\n",
    "# ))\n",
    "# print(distanta(\n",
    "#     [0, 0],\n",
    "#     np.array([[2, 3],[1, 0]])  # 2x + 3y + 4 == 0\n",
    "# ))\n",
    "\n",
    "# 5 Calcularea ariei unui polinom\n",
    "\n",
    "# Aria polinomului va fi suma tuturor triunghiurilor formate cu 3 puncte consecutive din acesta, dar punem cu - punctele care nu reprezinta intoarcere spre stanga\n",
    "polinom = np.array([\n",
    "    [0, 0],\n",
    "    [3, 0],\n",
    "    [3, 2],\n",
    "    [2, 1],\n",
    "    [1, 2],\n",
    "    [0, 2]\n",
    "])\n",
    "\n",
    "point = [0,0]\n",
    "area = 0\n",
    "for a, b in list(zip(polinom, polinom[1:]) + [polinom[0]]):\n",
    "   area += linalg.det(\n",
    "       np.matrix([\n",
    "        [*a, 1],\n",
    "        [*b, 1],\n",
    "        [*point, 1],\n",
    "    ])) / 2\n",
    "print(area)\n"
   ],
   "metadata": {
    "collapsed": false,
    "pycharm": {
     "name": "#%%\n"
    }
   }
  },
  {
   "cell_type": "markdown",
   "source": [
    "# Aplicații în inteligența artificială\n",
    "\n",
    "1. K Nearest Neighbors\n",
    "\n",
    "## K Nearest Neighbors\n",
    "\n",
    "Algoritmul:\n",
    "\n",
    "Pseudocod\n",
    "\n",
    "De ce este un algoritm de învățare?\n",
    "\n",
    "## Cerință\n",
    "\n",
    "Vom grupa elevii unor clase despre care cunoaștem mediile la română, matematică și engleză:"
   ],
   "metadata": {
    "collapsed": false
   }
  },
  {
   "cell_type": "code",
   "execution_count": 8,
   "outputs": [
    {
     "name": "stdout",
     "output_type": "stream",
     "text": [
      "[array([8, 7, 7]), array([7, 6, 6]), array([6, 8, 8])]\n"
     ]
    }
   ],
   "source": [
    "note_elevi = np.array([\n",
    "    [8, 7, 7],\n",
    "    [9, 9, 9],\n",
    "    [9, 9, 8],\n",
    "    [6, 6, 8],\n",
    "    [9, 7, 7],\n",
    "    [7, 7, 7],\n",
    "    [4, 4, 4],\n",
    "    [5, 6, 8],\n",
    "    [7, 6, 6],\n",
    "    [4, 4, 4],\n",
    "    [9, 10, 9],\n",
    "    [10, 9, 9],\n",
    "    [6, 6, 7],\n",
    "    [7, 8, 5],\n",
    "    [5, 5, 9],\n",
    "    [3, 3, 3],\n",
    "    [8, 8, 8],\n",
    "    [6, 10, 9],\n",
    "    [6, 8, 8],\n",
    "    [9, 9, 9],\n",
    "    [5, 6, 7],\n",
    "    [2, 3, 3],\n",
    "    [5, 7, 8],\n",
    "    [4, 7, 4],\n",
    "    [6, 6, 5],\n",
    "])\n",
    "\n",
    "\n",
    "def euclidian_distance(a, b):\n",
    "    return np.sqrt(np.sum((a - b) ** 2))\n",
    "\n",
    "\n",
    "# Pasul 1 - alegem k = numărul de grupuri\n",
    "k = 3\n",
    "\n",
    "# Pasul 2 - alegem k indici din vector\n",
    "indices = list(range(len(note_elevi)))\n",
    "np.random.shuffle(indices)\n",
    "centroids = [note_elevi[i] for i in indices[0:k]]\n",
    "\n",
    "# calculam care indici sunt cei mai apropiati de fiecare centroid in parte\n",
    "\n",
    "print(centroids)\n",
    "\n",
    "for _ in range(100):\n",
    "    groups = [[] for _ in range(k)]\n",
    "    for note_elev in note_elevi:\n",
    "        distances = [euclidian_distance(centroid, note_elev) for centroid in centroids]\n",
    "        min_idx = 0\n",
    "        min_distance = distances[0]\n",
    "        for idx2, distance in enumerate(distances):\n",
    "            if distance < min_distance:\n",
    "                min_idx, min_distance = idx2, distance\n",
    "        # print(min_idx, min_distance, distances)\n",
    "        groups[min_idx].append(note_elev)\n",
    "\n",
    "    centroids = [np.asarray(np.matrix(group).mean(0))[0] for group in groups]\n",
    "    # print('centroids:', *centroids, sep='\\n')\n",
    "\n",
    "# Pasul 4\n",
    "# folosim centroizii pentru a clasifica"
   ],
   "metadata": {
    "collapsed": false,
    "pycharm": {
     "name": "#%%\n"
    }
   }
  },
  {
   "cell_type": "code",
   "execution_count": 9,
   "outputs": [
    {
     "name": "stdout",
     "output_type": "stream",
     "text": [
      "[1, 2, 4, 10, 11, 16, 17, 19]\n",
      "[6, 9, 15, 21, 23]\n",
      "[0, 3, 5, 7, 8, 12, 13, 14, 18, 20, 22, 24]\n",
      "{1: 0, 2: 0, 4: 0, 10: 0, 11: 0, 16: 0, 17: 0, 19: 0, 6: 1, 9: 1, 15: 1, 21: 1, 23: 1, 0: 2, 3: 2, 5: 2, 7: 2, 8: 2, 12: 2, 13: 2, 14: 2, 18: 2, 20: 2, 22: 2, 24: 2}\n"
     ]
    }
   ],
   "source": [
    "groups = [[] for _ in range(k)]\n",
    "for i, note_elev in enumerate(note_elevi):\n",
    "    distances = [euclidian_distance(centroid, note_elev) for centroid in centroids]\n",
    "    min_idx = 0\n",
    "    min_distance = distances[0]\n",
    "    for idx2, distance in enumerate(distances):\n",
    "        if distance < min_distance:\n",
    "            min_idx, min_distance = idx2, distance\n",
    "    # print(min_idx, min_distance, distances)\n",
    "    groups[min_idx].append(i)\n",
    "print(*groups, sep='\\n')\n",
    "color_of = {}\n",
    "for group_id in range(len(groups)):\n",
    "    for i in groups[group_id]:\n",
    "        color_of[i] = group_id\n",
    "print(color_of)"
   ],
   "metadata": {
    "collapsed": false,
    "pycharm": {
     "name": "#%%\n"
    }
   }
  },
  {
   "cell_type": "code",
   "execution_count": 10,
   "outputs": [
    {
     "data": {
      "text/plain": "<Figure size 432x288 with 1 Axes>",
      "image/png": "[encoded data removed]"
     },
     "metadata": {
      "needs_background": "light"
     },
     "output_type": "display_data"
    }
   ],
   "source": [
    "from mpl_toolkits.mplot3d import Axes3D\n",
    "# # for .py files:\n",
    "# import matplotlib\n",
    "# matplotlib.use('Qt5Agg')\n",
    "import matplotlib.pyplot as plt\n",
    "\n",
    "fig = plt.figure()\n",
    "ax: Axes3D = fig.add_subplot(projection='3d')\n",
    "\n",
    "colors = ['red', 'forestgreen', 'royalblue']\n",
    "\n",
    "ax.scatter3D(*note_elevi.T, c=[colors[color_of[i]] for i in range(len(note_elevi))])\n",
    "ax.set_xlabel('Note Romana')\n",
    "ax.set_ylabel('Note Mate')\n",
    "ax.set_zlabel('Note Engleza ')\n",
    "ax.set_xlim(0, 10)\n",
    "ax.set_ylim(0, 10)\n",
    "\n",
    "fig.show()"
   ],
   "metadata": {
    "collapsed": false,
    "pycharm": {
     "name": "#%%\n"
    }
   }
  },
  {
   "cell_type": "code",
   "execution_count": 11,
   "outputs": [],
   "source": [
    "# # num_pupils = 25\n",
    "# # grades = []\n",
    "# #\n",
    "# # means = np.array([np.random.normal() for _ in range(num_pupils)])\n",
    "# # if means.min() < 0:\n",
    "# #     means -= means.min()\n",
    "# # means *= 10 / means.max()\n",
    "# #\n",
    "# # print(np.ceil(means))\n",
    "# # means[means < 5] += 2\n",
    "# # print(np.ceil(means))\n",
    "#\n",
    "# means = [7, 10, 7, 7, 8, 6, 6, 7, 7, 4,\n",
    "#          10, 10, 6, 6, 7, 5, 8, 8, 7, 8,\n",
    "#          7, 2, 7, 6, 6]\n",
    "#\n",
    "# for mean in means:\n",
    "#     # difference of 2:\n",
    "#     low = mean - np.random.randint(0, 3)\n",
    "#     if high < 1:\n",
    "#         high = 1\n",
    "#     high = mean + np.random.randint(0, 3)\n",
    "#     if high > 10:\n",
    "#         high = 10\n",
    "#\n",
    "#     print(np.random.random_integers(low, high, 3))\n",
    "#\n",
    "# np.random.random_integers(low, high)"
   ],
   "metadata": {
    "collapsed": false,
    "pycharm": {
     "name": "#%%\n"
    }
   }
  }
 ],
 "metadata": {
  "kernelspec": {
   "display_name": "Python 3",
   "language": "python",
   "name": "python3"
  },
  "language_info": {
   "codemirror_mode": {
    "name": "ipython",
    "version": 2
   },
   "file_extension": ".py",
   "mimetype": "text/x-python",
   "name": "python",
   "nbconvert_exporter": "python",
   "pygments_lexer": "ipython2",
   "version": "2.7.6"
  }
 },
 "nbformat": 4,
 "nbformat_minor": 0
}