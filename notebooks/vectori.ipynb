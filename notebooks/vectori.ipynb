{
 "cells": [
  {
   "cell_type": "code",
   "execution_count": 43,
   "metadata": {
    "collapsed": true
   },
   "outputs": [],
   "source": [
    "# Lesson 1\n",
    "# Calcule in Python. NumPy\n",
    "\n",
    "# calcule cu vectori, matrice:\n",
    "import numpy as np\n",
    "# grafice simple in Python:\n",
    "import matplotlib.pyplot as plt\n",
    "\n",
    "# TODO apesi Ctrl+Enter pentru a rula o caseta\n",
    "# TODO apesi Shift+Enter pentru a insera o nouă casetă de cod"
   ]
  },
  {
   "cell_type": "code",
   "execution_count": 51,
   "outputs": [
    {
     "name": "stdout",
     "output_type": "stream",
     "text": [
      "[1 2 3] [-1  0  5]\n",
      "[0 2 8]\n",
      "[-1  0 15]\n",
      "[2 4 6]\n",
      "[0.5 1.  1.5]\n",
      "[1 4 9]\n"
     ]
    }
   ],
   "source": [
    "# Cum cream vectori si matrice:\n",
    "\n",
    "v1 = np.array([1, 2, 3])\n",
    "v2 = np.array([-1, 0, 5])\n",
    "\n",
    "# Ce operații putem face pe vectori:\n",
    "\n",
    "print(v1, v2)\n",
    "print(v1 + v2)\n",
    "print(v1 * v2)\n",
    "print(v1 * 2)\n",
    "print(v1 / 2)\n",
    "print(v1 ** 2)  # a**b means a to the power of 2"
   ],
   "metadata": {
    "collapsed": false,
    "pycharm": {
     "name": "#%%\n"
    }
   }
  },
  {
   "cell_type": "code",
   "execution_count": 52,
   "outputs": [
    {
     "name": "stdout",
     "output_type": "stream",
     "text": [
      "[1.         1.41421356 1.73205081]\n",
      "[1 0 5]\n",
      "14\n",
      "6\n",
      "[0.         0.69314718 1.09861229]\n",
      "[0.        1.        1.5849625]\n",
      "[0.         0.30103    0.47712125]\n",
      "[0.         0.30103    0.47712125]\n"
     ]
    }
   ],
   "source": [
    "# in numpy, prescurtat ca np la noi, avem si alte functii:\n",
    "\n",
    "print(np.sqrt(v1))\n",
    "print(np.abs(v2))\n",
    "print(np.dot(v1, v2))  # produs scalar, element cu element, urmat de suma, adica 1*(-1) + 2*0 + 3*5 = 14\n",
    "print(np.sum(v1))  # suma tuturor elementelor din vector\n",
    "print(np.log(v1))  # aplică logaritm natural pe fiecare element\n",
    "print(np.log2(v1))  # aplică logaritm în baza 2 pe fiecare element\n",
    "print(np.log10(v1))  # aplică logaritm zecimal pe fiecare element\n",
    "# dacă ne-am dori în altă bază, putem folosi schimbarea de bază:\n",
    "print(np.log(v1) / np.log(10))  # va da tot în baza 10"
   ],
   "metadata": {
    "collapsed": false,
    "pycharm": {
     "name": "#%%\n"
    }
   }
  },
  {
   "cell_type": "code",
   "execution_count": 58,
   "outputs": [
    {
     "data": {
      "text/plain": "<Figure size 432x288 with 1 Axes>",
      "image/png": "[encoded data removed]"
     },
     "metadata": {
      "needs_background": "light"
     },
     "output_type": "display_data"
    },
    {
     "name": "stdout",
     "output_type": "stream",
     "text": [
      "adaugati aici codul pentru distanta dintre punctele v1 si v2\n",
      "adaugati aici codul pentru distanta dintre punctele v1 si v2\n"
     ]
    }
   ],
   "source": [
    "# In a doua casetă am văzut ce operatii de bază avem cu vectrii\n",
    "# Să facem o aplicație:\n",
    "\n",
    "# dacă avem vectorii\n",
    "v1 = np.array([4, 3])\n",
    "v2 = np.array([0, 1])\n",
    "# care arată așa în desen:\n",
    "xs = v1[0], v2[0]\n",
    "ys = v1[1], v2[1]\n",
    "plt.plot(xs, ys, color='forestgreen')\n",
    "plt.xlim(0, 5)\n",
    "plt.ylim(0, 5)\n",
    "plt.grid()\n",
    "plt.gca().set_aspect('equal', 'box')\n",
    "plt.title('Distanta dintre v1 și v2')\n",
    "plt.text(*v1, 'v1')\n",
    "plt.text(*v2, 'v2')\n",
    "plt.show()\n",
    "\n",
    "# cum putem folosi ceea ce stim (adunari/ scaderi de vectori, ridicari la putere)\n",
    "#  pentru a calcula distanta euclidiana dintre v1 și v2?\n",
    "\n",
    "print('''adaugati aici codul pentru distanta dintre punctele v1 si v2''')\n",
    "\n",
    "# cum putem folosi ceea ce stim (adunari/ scaderi de vectori, ridicari la putere)\n",
    "#  pentru a calcula distanta euclidiana dintre v1 și v2?\n",
    "\n",
    "print('''adaugati aici codul pentru distanta dintre punctele v1 si v2''')"
   ],
   "metadata": {
    "collapsed": false,
    "pycharm": {
     "name": "#%%\n"
    }
   }
  },
  {
   "cell_type": "code",
   "execution_count": 47,
   "outputs": [
    {
     "data": {
      "text/plain": "(array([4, 3]), array([0, 1]), 4, 3, 0, 1)"
     },
     "execution_count": 47,
     "metadata": {},
     "output_type": "execute_result"
    }
   ],
   "source": [
    "# Dacă  vrem să lucrăm cu componentele vectorului, în Python putem să despachetam vectorul:\n",
    "x1, y1 = v1\n",
    "x2, y2 = v2\n",
    "\n",
    "# când lăsăm o expresie la final de casetă, va fi afișata automat:\n",
    "v1, v2, x1, y1, x2, y2"
   ],
   "metadata": {
    "collapsed": false,
    "pycharm": {
     "name": "#%%\n"
    }
   }
  },
  {
   "cell_type": "code",
   "execution_count": 47,
   "outputs": [],
   "source": [],
   "metadata": {
    "collapsed": false,
    "pycharm": {
     "name": "#%%\n"
    }
   }
  }
 ],
 "metadata": {
  "kernelspec": {
   "display_name": "Python 3",
   "language": "python",
   "name": "python3"
  },
  "language_info": {
   "codemirror_mode": {
    "name": "ipython",
    "version": 2
   },
   "file_extension": ".py",
   "mimetype": "text/x-python",
   "name": "python",
   "nbconvert_exporter": "python",
   "pygments_lexer": "ipython2",
   "version": "2.7.6"
  }
 },
 "nbformat": 4,
 "nbformat_minor": 0
}